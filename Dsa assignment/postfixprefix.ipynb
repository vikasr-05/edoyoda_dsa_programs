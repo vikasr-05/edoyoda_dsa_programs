{
 "cells": [
  {
   "cell_type": "code",
   "execution_count": 1,
   "id": "7546acf2",
   "metadata": {},
   "outputs": [
    {
     "name": "stdout",
     "output_type": "stream",
     "text": [
      "Postfix Expression: 34*2+\n",
      "Prefix Expression: +*342\n"
     ]
    }
   ],
   "source": [
    "def is_operator(char):\n",
    "    return char in {'+', '-', '*', '/'}\n",
    "\n",
    "def postfix_to_prefix(postfix_expression):\n",
    "    stack = []\n",
    "    operators = {'+', '-', '*', '/'}\n",
    "\n",
    "    for char in postfix_expression:\n",
    "        if not is_operator(char):\n",
    "            stack.append(char)\n",
    "        else:\n",
    "            operand2 = stack.pop()\n",
    "            operand1 = stack.pop()\n",
    "            expression = char + operand1 + operand2\n",
    "            stack.append(expression)\n",
    "\n",
    "    if len(stack) != 1:\n",
    "        raise ValueError(\"Invalid postfix expression\")\n",
    "\n",
    "    return stack[0]\n",
    "\n",
    "# Example usage\n",
    "postfix_expression = \"34*2+\"\n",
    "prefix_expression = postfix_to_prefix(postfix_expression)\n",
    "print(\"Postfix Expression:\", postfix_expression)\n",
    "print(\"Prefix Expression:\", prefix_expression)\n"
   ]
  },
  {
   "cell_type": "code",
   "execution_count": null,
   "id": "fdde92ad",
   "metadata": {},
   "outputs": [],
   "source": []
  }
 ],
 "metadata": {
  "kernelspec": {
   "display_name": "Python 3 (ipykernel)",
   "language": "python",
   "name": "python3"
  },
  "language_info": {
   "codemirror_mode": {
    "name": "ipython",
    "version": 3
   },
   "file_extension": ".py",
   "mimetype": "text/x-python",
   "name": "python",
   "nbconvert_exporter": "python",
   "pygments_lexer": "ipython3",
   "version": "3.9.13"
  }
 },
 "nbformat": 4,
 "nbformat_minor": 5
}
