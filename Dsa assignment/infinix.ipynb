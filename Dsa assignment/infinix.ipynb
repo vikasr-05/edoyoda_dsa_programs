{
 "cells": [
  {
   "cell_type": "code",
   "execution_count": 1,
   "id": "94211f1f",
   "metadata": {},
   "outputs": [
    {
     "name": "stdout",
     "output_type": "stream",
     "text": [
      "Prefix Expression: +*342\n",
      "Infix Expression: ((3 * 4) + 2)\n"
     ]
    }
   ],
   "source": [
    "def is_operator(char):\n",
    "    return char in {'+', '-', '*', '/'}\n",
    "\n",
    "def prefix_to_infix(prefix_expression):\n",
    "    stack = []\n",
    "\n",
    "    for char in reversed(prefix_expression):\n",
    "        if not is_operator(char):\n",
    "            stack.append(char)\n",
    "        else:\n",
    "            operand1 = stack.pop()\n",
    "            operand2 = stack.pop()\n",
    "            expression = f\"({operand1} {char} {operand2})\"\n",
    "            stack.append(expression)\n",
    "\n",
    "    if len(stack) != 1:\n",
    "        raise ValueError(\"Invalid prefix expression\")\n",
    "\n",
    "    return stack[0]\n",
    "\n",
    "# Example usage\n",
    "prefix_expression = \"+*342\"\n",
    "infix_expression = prefix_to_infix(prefix_expression)\n",
    "print(\"Prefix Expression:\", prefix_expression)\n",
    "print(\"Infix Expression:\", infix_expression)\n"
   ]
  },
  {
   "cell_type": "code",
   "execution_count": null,
   "id": "9d478be0",
   "metadata": {},
   "outputs": [],
   "source": []
  }
 ],
 "metadata": {
  "kernelspec": {
   "display_name": "Python 3 (ipykernel)",
   "language": "python",
   "name": "python3"
  },
  "language_info": {
   "codemirror_mode": {
    "name": "ipython",
    "version": 3
   },
   "file_extension": ".py",
   "mimetype": "text/x-python",
   "name": "python",
   "nbconvert_exporter": "python",
   "pygments_lexer": "ipython3",
   "version": "3.9.13"
  }
 },
 "nbformat": 4,
 "nbformat_minor": 5
}
