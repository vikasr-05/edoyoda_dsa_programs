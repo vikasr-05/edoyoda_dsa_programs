{
 "cells": [
  {
   "cell_type": "code",
   "execution_count": 1,
   "id": "56ffa11f",
   "metadata": {},
   "outputs": [
    {
     "name": "stdout",
     "output_type": "stream",
     "text": [
      "Original Stack: [1, 2, 3, 4]\n",
      "Reversed Stack: [1, 2, 3, 4]\n"
     ]
    }
   ],
   "source": [
    "class Stack:\n",
    "    def __init__(self):\n",
    "        self.items = []\n",
    "\n",
    "    def is_empty(self):\n",
    "        return len(self.items) == 0\n",
    "\n",
    "    def push(self, item):\n",
    "        self.items.append(item)\n",
    "\n",
    "    def pop(self):\n",
    "        if not self.is_empty():\n",
    "            return self.items.pop()\n",
    "        else:\n",
    "            raise IndexError(\"pop from an empty stack\")\n",
    "\n",
    "    def peek(self):\n",
    "        if not self.is_empty():\n",
    "            return self.items[-1]\n",
    "        else:\n",
    "            raise IndexError(\"peek from an empty stack\")\n",
    "\n",
    "    def size(self):\n",
    "        return len(self.items)\n",
    "\n",
    "def reverse_stack(stack):\n",
    "    if stack.is_empty():\n",
    "        return\n",
    "\n",
    "    aux_stack = Stack()\n",
    "\n",
    "    # Pop elements from the original stack and push them onto the auxiliary stack\n",
    "    while not stack.is_empty():\n",
    "        aux_stack.push(stack.pop())\n",
    "\n",
    "    # Pop elements from the auxiliary stack and push them back onto the original stack\n",
    "    while not aux_stack.is_empty():\n",
    "        stack.push(aux_stack.pop())\n",
    "\n",
    "# Example usage\n",
    "original_stack = Stack()\n",
    "original_stack.push(1)\n",
    "original_stack.push(2)\n",
    "original_stack.push(3)\n",
    "original_stack.push(4)\n",
    "\n",
    "print(\"Original Stack:\", original_stack.items)\n",
    "\n",
    "reverse_stack(original_stack)\n",
    "\n",
    "print(\"Reversed Stack:\", original_stack.items)\n"
   ]
  },
  {
   "cell_type": "code",
   "execution_count": null,
   "id": "cf0d2acc",
   "metadata": {},
   "outputs": [],
   "source": []
  }
 ],
 "metadata": {
  "kernelspec": {
   "display_name": "Python 3 (ipykernel)",
   "language": "python",
   "name": "python3"
  },
  "language_info": {
   "codemirror_mode": {
    "name": "ipython",
    "version": 3
   },
   "file_extension": ".py",
   "mimetype": "text/x-python",
   "name": "python",
   "nbconvert_exporter": "python",
   "pygments_lexer": "ipython3",
   "version": "3.9.13"
  }
 },
 "nbformat": 4,
 "nbformat_minor": 5
}
