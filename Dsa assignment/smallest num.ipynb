{
 "cells": [
  {
   "cell_type": "code",
   "execution_count": 2,
   "id": "4028224c",
   "metadata": {},
   "outputs": [
    {
     "name": "stdout",
     "output_type": "stream",
     "text": [
      "Minimum Element: 1\n",
      "Minimum Element: 2\n"
     ]
    }
   ],
   "source": [
    "class MinStack:\n",
    "    def __init__(self):\n",
    "        self.stack = []\n",
    "        self.min_stack = []\n",
    "\n",
    "    def is_empty(self):\n",
    "        return len(self.stack) == 0\n",
    "\n",
    "    def push(self, value):\n",
    "        self.stack.append(value)\n",
    "        if not self.min_stack or value <= self.min_stack[-1]:\n",
    "            self.min_stack.append(value)\n",
    "\n",
    "    def pop(self):\n",
    "        if not self.is_empty():\n",
    "            popped_item = self.stack.pop()\n",
    "            if popped_item == self.min_stack[-1]:\n",
    "                self.min_stack.pop()\n",
    "            return popped_item\n",
    "        else:\n",
    "            raise IndexError(\"pop from an empty stack\")\n",
    "\n",
    "    def get_min(self):\n",
    "        if not self.is_empty():\n",
    "            return self.min_stack[-1]\n",
    "        else:\n",
    "            raise IndexError(\"get_min from an empty stack\")\n",
    "\n",
    "# Example usage\n",
    "min_stack = MinStack()\n",
    "min_stack.push(3)\n",
    "min_stack.push(5)\n",
    "min_stack.push(2)\n",
    "min_stack.push(1)\n",
    "min_stack.push(4)\n",
    "\n",
    "print(\"Minimum Element:\", min_stack.get_min())  # Output: 1\n",
    "\n",
    "min_stack.pop()\n",
    "min_stack.pop()\n",
    "\n",
    "print(\"Minimum Element:\", min_stack.get_min())  # Output: 2\n"
   ]
  },
  {
   "cell_type": "code",
   "execution_count": null,
   "id": "920dd60b",
   "metadata": {},
   "outputs": [],
   "source": []
  }
 ],
 "metadata": {
  "kernelspec": {
   "display_name": "Python 3 (ipykernel)",
   "language": "python",
   "name": "python3"
  },
  "language_info": {
   "codemirror_mode": {
    "name": "ipython",
    "version": 3
   },
   "file_extension": ".py",
   "mimetype": "text/x-python",
   "name": "python",
   "nbconvert_exporter": "python",
   "pygments_lexer": "ipython3",
   "version": "3.9.13"
  }
 },
 "nbformat": 4,
 "nbformat_minor": 5
}
