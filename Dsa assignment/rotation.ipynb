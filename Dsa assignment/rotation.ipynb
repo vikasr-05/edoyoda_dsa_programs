{
 "cells": [
  {
   "cell_type": "code",
   "execution_count": 1,
   "id": "761208c9",
   "metadata": {},
   "outputs": [
    {
     "name": "stdout",
     "output_type": "stream",
     "text": [
      "Second string is a rotation of first string\n"
     ]
    }
   ],
   "source": [
    "str1 = \"abcde\";  \n",
    "str2 = \"deabc\";  \n",
    "   \n",
    "if(len(str1) != len(str2)):  \n",
    "    print(\"Second string is not a rotation of first string\");  \n",
    "else:  \n",
    "    try:  \n",
    "        #Concatenate str1 with str1 and store it in str1  \n",
    "        str1 = str1 + str1;  \n",
    "          \n",
    "        #Check whether str2 is present in str1  \n",
    "        if(str1.index(str2)):  \n",
    "            print(\"Second string is a rotation of first string\");  \n",
    "    except ValueError:  \n",
    "            print(\"Second string is not a rotation of first string\");  "
   ]
  },
  {
   "cell_type": "code",
   "execution_count": null,
   "id": "ed9bec42",
   "metadata": {},
   "outputs": [],
   "source": []
  },
  {
   "cell_type": "code",
   "execution_count": null,
   "id": "7a330413",
   "metadata": {},
   "outputs": [],
   "source": []
  },
  {
   "cell_type": "code",
   "execution_count": null,
   "id": "cea9ba4a",
   "metadata": {},
   "outputs": [],
   "source": []
  }
 ],
 "metadata": {
  "kernelspec": {
   "display_name": "Python 3 (ipykernel)",
   "language": "python",
   "name": "python3"
  },
  "language_info": {
   "codemirror_mode": {
    "name": "ipython",
    "version": 3
   },
   "file_extension": ".py",
   "mimetype": "text/x-python",
   "name": "python",
   "nbconvert_exporter": "python",
   "pygments_lexer": "ipython3",
   "version": "3.9.13"
  }
 },
 "nbformat": 4,
 "nbformat_minor": 5
}
