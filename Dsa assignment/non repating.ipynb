{
 "cells": [
  {
   "cell_type": "code",
   "execution_count": 1,
   "id": "761208c9",
   "metadata": {},
   "outputs": [
    {
     "name": "stdout",
     "output_type": "stream",
     "text": [
      "First non-repeating character is : R\n"
     ]
    }
   ],
   "source": [
    "str = \"PREPINSTA\"\n",
    "l = len(str)\n",
    "flag = 0\n",
    "for i in range(l):\n",
    "    flag = 0\n",
    "    for j in range(l):\n",
    "        if str[i] == str[j] and i != j:\n",
    "            flag = 1\n",
    "            break\n",
    "    if flag == 0:\n",
    "        print(\"First non-repeating character is :\", str[i])\n",
    "        break\n",
    "\n",
    "if flag == 1:\n",
    "    print(\"No non-repeating character\")  "
   ]
  },
  {
   "cell_type": "code",
   "execution_count": null,
   "id": "ed9bec42",
   "metadata": {},
   "outputs": [],
   "source": []
  },
  {
   "cell_type": "code",
   "execution_count": null,
   "id": "7a330413",
   "metadata": {},
   "outputs": [],
   "source": []
  },
  {
   "cell_type": "code",
   "execution_count": null,
   "id": "cea9ba4a",
   "metadata": {},
   "outputs": [],
   "source": []
  }
 ],
 "metadata": {
  "kernelspec": {
   "display_name": "Python 3 (ipykernel)",
   "language": "python",
   "name": "python3"
  },
  "language_info": {
   "codemirror_mode": {
    "name": "ipython",
    "version": 3
   },
   "file_extension": ".py",
   "mimetype": "text/x-python",
   "name": "python",
   "nbconvert_exporter": "python",
   "pygments_lexer": "ipython3",
   "version": "3.9.13"
  }
 },
 "nbformat": 4,
 "nbformat_minor": 5
}
