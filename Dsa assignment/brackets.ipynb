{
 "cells": [
  {
   "cell_type": "code",
   "execution_count": 1,
   "id": "5ba07c8a",
   "metadata": {},
   "outputs": [
    {
     "name": "stdout",
     "output_type": "stream",
     "text": [
      "All brackets are closed.\n"
     ]
    }
   ],
   "source": [
    "def are_brackets_closed(code):\n",
    "    stack = []\n",
    "    opening_brackets = {'(', '[', '{'}\n",
    "    closing_brackets = {')': '(', ']': '[', '}': '{'}\n",
    "\n",
    "    for char in code:\n",
    "        if char in opening_brackets:\n",
    "            stack.append(char)\n",
    "        elif char in closing_brackets:\n",
    "            if not stack or stack.pop() != closing_brackets[char]:\n",
    "                return False\n",
    "\n",
    "    return not stack  # True if stack is empty, meaning all brackets are closed\n",
    "\n",
    "# Example usage\n",
    "code_snippet = \"{[a + b] * (c - d)}\"\n",
    "result = are_brackets_closed(code_snippet)\n",
    "\n",
    "if result:\n",
    "    print(\"All brackets are closed.\")\n",
    "else:\n",
    "    print(\"Not all brackets are closed.\")\n"
   ]
  },
  {
   "cell_type": "code",
   "execution_count": null,
   "id": "df077626",
   "metadata": {},
   "outputs": [],
   "source": []
  }
 ],
 "metadata": {
  "kernelspec": {
   "display_name": "Python 3 (ipykernel)",
   "language": "python",
   "name": "python3"
  },
  "language_info": {
   "codemirror_mode": {
    "name": "ipython",
    "version": 3
   },
   "file_extension": ".py",
   "mimetype": "text/x-python",
   "name": "python",
   "nbconvert_exporter": "python",
   "pygments_lexer": "ipython3",
   "version": "3.9.13"
  }
 },
 "nbformat": 4,
 "nbformat_minor": 5
}
