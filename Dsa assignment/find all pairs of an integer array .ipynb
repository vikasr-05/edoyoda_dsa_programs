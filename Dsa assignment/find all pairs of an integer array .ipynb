{
 "cells": [
  {
   "cell_type": "code",
   "execution_count": 1,
   "id": "1000f53f",
   "metadata": {},
   "outputs": [
    {
     "name": "stdout",
     "output_type": "stream",
     "text": [
      "[(5, 7), (3, 9)]\n"
     ]
    }
   ],
   "source": [
    "def findPairs(lst, K): \n",
    "    res = []\n",
    "    while lst:\n",
    "        num = lst.pop()\n",
    "        diff = K - num\n",
    "        if diff in lst:\n",
    "            res.append((diff, num))\n",
    "         \n",
    "    res.reverse()\n",
    "    return res\n",
    "     \n",
    "# Driver code\n",
    "lst = [1, 5, 3, 7, 9]\n",
    "K = 12\n",
    "print(findPairs(lst, K))"
   ]
  },
  {
   "cell_type": "code",
   "execution_count": null,
   "id": "3922f8d5",
   "metadata": {},
   "outputs": [],
   "source": []
  }
 ],
 "metadata": {
  "kernelspec": {
   "display_name": "Python 3 (ipykernel)",
   "language": "python",
   "name": "python3"
  },
  "language_info": {
   "codemirror_mode": {
    "name": "ipython",
    "version": 3
   },
   "file_extension": ".py",
   "mimetype": "text/x-python",
   "name": "python",
   "nbconvert_exporter": "python",
   "pygments_lexer": "ipython3",
   "version": "3.9.13"
  }
 },
 "nbformat": 4,
 "nbformat_minor": 5
}
